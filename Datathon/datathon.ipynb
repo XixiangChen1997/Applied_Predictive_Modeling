{
 "cells": [
  {
   "cell_type": "code",
   "execution_count": 5,
   "metadata": {},
   "outputs": [
    {
     "name": "stdout",
     "output_type": "stream",
     "text": [
      "Requirement already satisfied: nltk in d:\\programming apps\\anaconda\\lib\\site-packages (3.4.4)\n",
      "Requirement already satisfied: six in d:\\programming apps\\anaconda\\lib\\site-packages (from nltk) (1.12.0)\n"
     ]
    }
   ],
   "source": [
    "import pandas as pd\n",
    "import numpy as np\n",
    "!pip install nltk"
   ]
  },
  {
   "cell_type": "code",
   "execution_count": 38,
   "metadata": {},
   "outputs": [],
   "source": [
    "df = pd.read_csv('D://RPI/Daily_files/Datathon/complaints_data/complaints.csv')"
   ]
  },
  {
   "cell_type": "code",
   "execution_count": 39,
   "metadata": {},
   "outputs": [],
   "source": [
    "df.loc[df['Product']=='Credit reporting','Product'] = 'Credit reporting, credit repair services, or other personal consumer reports'\n",
    "df.loc[df['Product']=='Credit card','Product'] = 'Credit card or prepaid card'\n",
    "df.loc[df['Product']=='Bank account or service','Product'] = 'Checking or savings account'\n",
    "df.loc[df['Product']=='Consumer Loan','Product'] = 'Payday loan, title loan, or personal loan'\n",
    "df.loc[df['Product']=='Payday loan','Product'] = 'Payday loan, title loan, or personal loan'\n",
    "df.loc[df['Product']=='Money transfers','Product'] = 'Money transfer, virtual currency, or money service'\n",
    "df.loc[df['Product']=='Prepaid card','Product'] = 'Credit card or prepaid card'\n",
    "df.loc[df['Product']=='Virtual currency','Product'] = 'Money transfer, virtual currency, or money service'"
   ]
  },
  {
   "cell_type": "code",
   "execution_count": null,
   "metadata": {},
   "outputs": [],
   "source": []
  },
  {
   "cell_type": "code",
   "execution_count": null,
   "metadata": {},
   "outputs": [],
   "source": []
  }
 ],
 "metadata": {
  "kernelspec": {
   "display_name": "Python 3",
   "language": "python",
   "name": "python3"
  },
  "language_info": {
   "codemirror_mode": {
    "name": "ipython",
    "version": 3
   },
   "file_extension": ".py",
   "mimetype": "text/x-python",
   "name": "python",
   "nbconvert_exporter": "python",
   "pygments_lexer": "ipython3",
   "version": "3.7.3"
  }
 },
 "nbformat": 4,
 "nbformat_minor": 4
}
